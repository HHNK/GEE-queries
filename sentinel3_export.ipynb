{
 "cells": [
  {
   "cell_type": "markdown",
   "metadata": {},
   "source": [
    "# GEE Export\n",
    "Calculate the MCI from sentinel-3 data and save it in a local folder together with the quality masks (and other sentinel-3 layers if needed)."
   ]
  },
  {
   "cell_type": "markdown",
   "metadata": {},
   "source": [
    "### Parameters"
   ]
  },
  {
   "cell_type": "code",
   "execution_count": 423,
   "metadata": {},
   "outputs": [],
   "source": [
    "daterange = (\"2018-06-01\", \"2018-07-01\")\n",
    "name_export = \"MCI_sentinel3\"\n",
    "savepath = \"exports\""
   ]
  },
  {
   "cell_type": "code",
   "execution_count": null,
   "metadata": {},
   "outputs": [],
   "source": [
    "# general imports\n",
    "import math\n",
    "import sys\n",
    "import os\n",
    "from osgeo import gdal\n",
    "import numpy as np\n",
    "import glob\n",
    "import matplotlib.pyplot as plt\n",
    "\n",
    "# GEE imports\n",
    "import ee\n",
    "# from ee import batch\n",
    "from geetools import batch\n",
    "ee.Initialize()\n",
    "\n",
    "# import polygons\n",
    "from gee_polygons import ijssel_rect, ijssel_precise, ijssel_poly\n",
    "\n",
    "def getQABits(image, start, end, mascara):\n",
    "    # Compute the bits we need to extract.\n",
    "    pattern = 0\n",
    "    for i in range(start,end+1):\n",
    "        pattern += 2**i\n",
    "        \n",
    "    # Return a single band image of the extracted QA bits, giving the     band a new name.\n",
    "    return image.select([0], [mascara]).bitwiseAnd(pattern).rightShift(start)\n",
    "\n",
    "# A function to mask out cloudy pixels.\n",
    "def maskQuality(image):\n",
    "    \n",
    "    # Select the QA band.\n",
    "    QA = image.select('quality_flags')\n",
    "    \n",
    "    # Get the internal_cloud_algorithm_flag bit.\n",
    "    bright = getQABits(QA,27,27,'Bright') #4?\n",
    "    invalid = getQABits(QA,25,25,'Invalid')\n",
    "    \n",
    "    #  var cloud_confidence = getQABits(QA,6,7,  'cloud_confidence')\n",
    "    cosmetic = getQABits(QA,24,24,'Cosmetic')\n",
    "    #var cirrus_detected2 = getQABits(QA,8,8,  'cirrus_detected2')\n",
    "    \n",
    "    # Return an image masking out cloudy areas.\n",
    "    return image.updateMask(bright.eq(0)).updateMask(invalid.eq(0).updateMask(cosmetic.eq(0)))\n",
    "\n",
    "# based on https://gis.stackexchange.com/questions/274048/apply-cloud-mask-to-landsat-imagery-in-google-earth-engine-python-api\n",
    "def ExportCol(col, folder, scale, typei, nimg, maxPixels, region, name_export):\n",
    "    os.makedirs(os.path.join(folder,name_export), exist_ok=True)\n",
    "    # I'm not quite sure but I think this just makes a list large enough that all images will fit\n",
    "    # so toList(500) gives a 500 element long list, but the col part uses maybe only 37 of those 500\n",
    "    # so the final list is then 37 elements.\n",
    "    colList = col.toList(nimg)\n",
    "    n = colList.size().getInfo()\n",
    "    print(\"Processing {} images\".format(n))\n",
    "    for i in range(0,n):\n",
    "        \n",
    "        img_tmp = ee.Image(colList.get(i))\n",
    "        img = get_MCI_clipped(img_tmp)\n",
    "        \n",
    "        # hack to get give the band the right name\n",
    "        img = img.select([0], ['MCI'])\n",
    "        \n",
    "        id_img = img_tmp.id().getInfo()\n",
    "        # img.set(id_img, \"system:index\")\n",
    "        \n",
    "        # date formatted according to http://joda-time.sourceforge.net/apidocs/org/joda/time/format/DateTimeFormat.html\n",
    "        datestr = ee.Date(img_tmp.get('system:time_start')).format('YYYY-MM-dd').getInfo()\n",
    "        print('image date: {}'.format(datestr))\n",
    "        print(\"original img id: {}\".format(id_img))\n",
    "\n",
    "        imgtype = {\"float\":img.toFloat(), \n",
    "                    \"byte\":img.toByte(), \n",
    "                    \"int\":img.toInt(),\n",
    "                    \"double\":img.toDouble()\n",
    "                  }\n",
    "        task_config = {\n",
    "            'image': imgtype[typei],\n",
    "            'description': id_img,\n",
    "            'scale': scale,  \n",
    "            'region': region,\n",
    "            'folder': folder,\n",
    "            'maxPixels': maxPixels,\n",
    "            'fileNamePrefix': id_img\n",
    "            }\n",
    "        \n",
    "        \n",
    "        # toLocal(image, name=None, path=None, scale=None, region=None, dimensions=None, toFolder=True)\n",
    "        # export MCI\n",
    "        batch.Download.image.toLocal(img, name=datestr, scale=scale, region=region, path=os.path.join(folder,name_export), toFolder=True)\n",
    "        \n",
    "        # export quality flags to get the bits in an usable format you will have to extract the bits and expand them to seperate layers,\n",
    "        # in this format they are saved as a bitstring for each pixel\n",
    "        batch.Download.image.toLocal(img_tmp.select(['quality_flags']), name=datestr, scale=scale, region=region, path=os.path.join(folder,name_export), toFolder=True)\n",
    "        \n",
    "        # export RGB with multiplication\n",
    "        rgb = img_tmp.select(['Oa08_radiance', 'Oa06_radiance', 'Oa04_radiance'], ['Red','Green','Blue']).multiply(ee.Image([0.00876539, 0.0123538, 0.0115198]))\n",
    "        batch.Download.image.toLocal(rgb, name=datestr, scale=scale, region=region, path=os.path.join(folder,name_export), toFolder=True)\n",
    "        \n",
    "        # export all layers\n",
    "#         batch.Download.image.toLocal(img_tmp, name=datestr, scale=scale, region=region, path=os.path.join(folder,name_export), toFolder=True)\n",
    "    \n",
    "    \n",
    "def get_MCI_clipped(img):\n",
    "    \"\"\"convert ee.Image to MCI ee.Image\"\"\"\n",
    "    img = img.clip(ijssel_rect);\n",
    "  \n",
    "    # calculate MCI\n",
    "    # bands can be found here: https://developers.google.com/earth-engine/datasets/catalog/COPERNICUS_S3_OLCI\n",
    "    MCI = img.expression(\n",
    "        'l709 - l681 - (((709-681)/(753-681)) * (l753-l681))', {\n",
    "        'l709': img.select('Oa11_radiance'),\n",
    "        'l681': img.select('Oa10_radiance'),\n",
    "        'l753': img.select('Oa12_radiance')\n",
    "    })\n",
    "    MCI = MCI.copyProperties(img)\n",
    "    MCI = ee.Image(MCI)\n",
    "    return MCI\n",
    "\n",
    "daterangestr = \"{}_{}\".format(daterange[0], daterange[1])\n",
    "\n",
    "# sentinel3 data\n",
    "# https://developers.google.com/earth-engine/datasets/catalog/COPERNICUS_S3_OLCI\n",
    "dataset = ee.ImageCollection('COPERNICUS/S3/OLCI').filterBounds(ijssel_rect).filterDate(daterange[0], daterange[1])\n",
    "\n",
    "# ExportCol = function(col, folder, scale, type, nimg, maxPixels, region)\n",
    "ExportCol(dataset,savepath,300,\"float\",300,1e12, ijssel_rect, name_export)"
   ]
  },
  {
   "cell_type": "markdown",
   "metadata": {},
   "source": [
    "## Data Inspection \n",
    "Functions for inspecting the exported data."
   ]
  },
  {
   "cell_type": "code",
   "execution_count": 413,
   "metadata": {},
   "outputs": [
    {
     "name": "stdout",
     "output_type": "stream",
     "text": [
      "exports/MCI_sentinel3/2018-06-05/2209ab25327ffcb965a94ffc72f92b20.MCI.tif\n"
     ]
    },
    {
     "name": "stderr",
     "output_type": "stream",
     "text": [
      "/data/anaconda3/envs/gee/lib/python3.7/site-packages/ipykernel_launcher.py:32: DeprecationWarning: The binary mode of fromstring is deprecated, as it behaves surprisingly on unicode inputs. Use frombuffer instead\n"
     ]
    },
    {
     "name": "stdout",
     "output_type": "stream",
     "text": [
      "error count: 0\n",
      "(296, 181)\n",
      "(296, 181, 3)\n",
      "(296, 181, 32)\n"
     ]
    }
   ],
   "source": [
    "def read_gee_files(path):\n",
    "    all_tifs = glob.glob(path + \"/*.tif\")\n",
    "    mci_path = [fname for fname in all_tifs if \"MCI\" in fname][0]\n",
    "    red_path = [fname for fname in all_tifs if \"Red\" in fname][0]\n",
    "    blue_path = [fname for fname in all_tifs if \"Blue\" in fname][0]\n",
    "    green_path = [fname for fname in all_tifs if \"Green\" in fname][0]\n",
    "    qb_path = [fname for fname in all_tifs if \"quality_flags\" in fname][0]\n",
    "    \n",
    "    print(mci_path)\n",
    "    \n",
    "    mci_gtif = gdal.Open(mci_path)\n",
    "    red_gtif = gdal.Open(red_path)\n",
    "    blue_gtif = gdal.Open(blue_path)\n",
    "    green_gtif = gdal.Open(green_path)\n",
    "    qb_gtif = gdal.Open(qb_path)\n",
    "    mci = mci_gtif.ReadAsArray()\n",
    "    red = red_gtif.ReadAsArray()\n",
    "    blue = blue_gtif.ReadAsArray()\n",
    "    green = green_gtif.ReadAsArray()\n",
    "    qb_bits = qb_gtif.ReadAsArray()\n",
    "    qb_masks = transform_qb_mask(qb_bits)\n",
    "    \n",
    "    rgb = np.stack([red,green,blue], axis=2)\n",
    "    \n",
    "    return mci, rgb, qb_masks\n",
    "\n",
    "def transform_qb_mask(image):\n",
    "    get_bitvector = np.vectorize(lambda x: \"{0:b}\".format(int(x)))\n",
    "    expand_bitvector = np.vectorize(lambda s: np.fromstring(s,'u1') - ord('0'))\n",
    "\n",
    "    flatty = image.flatten()\n",
    "    result = get_bitvector(flatty)\n",
    "    result = result.reshape(image.shape)\n",
    "\n",
    "    expanded_mask = np.zeros((image.shape[0], image.shape[1], 32), dtype=np.uint8)\n",
    "    error_count = 0\n",
    "    for i in range(image.shape[0]):\n",
    "        for j in range(image.shape[1]):\n",
    "            bit_array = expand_bitvector(result[i,j])\n",
    "            if len(bit_array) < 32:\n",
    "                tmp = np.zeros(32, dtype=np.uint8)\n",
    "                tmp[-len(bit_array):] = bit_array\n",
    "                bit_array = tmp\n",
    "            if len(bit_array) < 32:\n",
    "                error_count+=1\n",
    "\n",
    "            expanded_mask[i,j,:len(bit_array)] = bit_array\n",
    "\n",
    "    print('error count: {}'.format(error_count))\n",
    "    return expanded_mask\n",
    "\n",
    "mci, rgb, qb_masks = read_gee_files(\"exports/MCI_sentinel3/2018-06-05\")\n",
    "print(mci.shape)\n",
    "print(rgb.shape)\n",
    "print(qb_masks.shape)"
   ]
  },
  {
   "cell_type": "code",
   "execution_count": 421,
   "metadata": {},
   "outputs": [
    {
     "name": "stdout",
     "output_type": "stream",
     "text": [
      "min of image: -5.0, max: 5.0\n"
     ]
    },
    {
     "data": {
      "image/png": "[encoded data removed]",
      "text/plain": [
       "<Figure size 1440x792 with 1 Axes>"
      ]
     },
     "metadata": {
      "needs_background": "light"
     },
     "output_type": "display_data"
    }
   ],
   "source": [
    "image = rgb / 6 #6 is the max value in the rgb image, see GEE sentinel3 documentation\n",
    "# image = mci\n",
    "\n",
    "# good color range for mci (most of the time)\n",
    "# image[image<-5] = -5\n",
    "# image[image>5] = 5\n",
    "\n",
    "# masking\n",
    "bit = 4 # cloudmask\n",
    "image[qb_masks[:,:,bit] == 1] = -5 # set masked areas to lowest value \n",
    "\n",
    "f, axs = plt.subplots(figsize=(20,11))\n",
    "print(\"min of image: {}, max: {}\".format(np.min(image), np.max(image)))\n",
    "# diverging colormap is useful for plotting MCI\n",
    "plt.imshow(image, cmap='PiYG')\n",
    "plt.show()\n",
    "# import seaborn as sns\n",
    "# sns.distplot(mci.flatten())"
   ]
  },
  {
   "cell_type": "code",
   "execution_count": null,
   "metadata": {},
   "outputs": [],
   "source": []
  }
 ],
 "metadata": {
  "kernelspec": {
   "display_name": "Python [conda env:gee]",
   "language": "python",
   "name": "conda-env-gee-py"
  },
  "language_info": {
   "codemirror_mode": {
    "name": "ipython",
    "version": 3
   },
   "file_extension": ".py",
   "mimetype": "text/x-python",
   "name": "python",
   "nbconvert_exporter": "python",
   "pygments_lexer": "ipython3",
   "version": "3.7.4"
  }
 },
 "nbformat": 4,
 "nbformat_minor": 4
}
